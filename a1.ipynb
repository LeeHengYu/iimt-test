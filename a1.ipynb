{
 "cells": [
  {
   "cell_type": "code",
   "execution_count": null,
   "metadata": {},
   "outputs": [],
   "source": [
    "# Q1\n",
    "def triangle(x, y, z):\n",
    "    if x == y == z:\n",
    "        print(\"An equilateral triangle.\")\n",
    "    elif x == y or y == z or x == z:\n",
    "        print(\"An isosceles triangle.\")\n",
    "    else:\n",
    "        print(\"A scalene triangle.\")\n",
    "        \n",
    "x = int(input('x: '))\n",
    "y = int(input('y: '))\n",
    "z = int(input('z: '))\n",
    "triangle(x, y, z)"
   ]
  },
  {
   "cell_type": "code",
   "execution_count": null,
   "metadata": {},
   "outputs": [],
   "source": [
    "# Q2\n",
    "def max_of_three(a, b, c):\n",
    "    if a >= b:\n",
    "        if a >= c:\n",
    "            return a\n",
    "        return c\n",
    "    if b >= c:\n",
    "        return b\n",
    "    return c\n",
    "\n",
    "print(max_of_three(6,-5,-5))\n",
    "print(max_of_three(4,10,-99))"
   ]
  },
  {
   "cell_type": "code",
   "execution_count": null,
   "metadata": {},
   "outputs": [],
   "source": [
    "# Q3\n",
    "def score(x, y):\n",
    "    distance_squared = (x**2 + y**2)\n",
    "    if distance_squared <= 1:\n",
    "        return 10\n",
    "    if distance_squared <= 25:\n",
    "        return 5\n",
    "    if distance_squared <= 100:\n",
    "        return 1\n",
    "    return 'dart out of board.'"
   ]
  },
  {
   "cell_type": "code",
   "execution_count": null,
   "metadata": {},
   "outputs": [],
   "source": [
    "# Q4\n",
    "from random import randint\n",
    "\n",
    "def rock_paper_scissors():\n",
    "    ops = ['rock', 'scissors', 'paper']\n",
    "    A = randint(0, 2)\n",
    "    B = randint(0, 2)\n",
    "    \n",
    "    print(f'Player A chose {ops[A]}')\n",
    "    print(f'Player B chose {ops[B]}')\n",
    "    \n",
    "    descriptions = {\n",
    "        1: 'Rock smashes scissors!',\n",
    "        2: 'Paper covers rock!',\n",
    "        3: 'Scissors cut paper!',\n",
    "    }\n",
    "    \n",
    "    # 3 cases in which A wins, given A != B, all of them has (A + 1) % 3 == B\n",
    "    sum_of_idx = A + B\n",
    "    if A == B:\n",
    "        print('a draw!')\n",
    "    else:\n",
    "        print(descriptions[sum_of_idx], end=' ')\n",
    "        if (A+1) % 3 == B:\n",
    "            print('Player A wins!')\n",
    "        else:\n",
    "            print('Player B wins!')\n",
    "\n",
    "\n",
    "rock_paper_scissors()"
   ]
  },
  {
   "cell_type": "markdown",
   "metadata": {},
   "source": [
    "## Note"
   ]
  },
  {
   "cell_type": "code",
   "execution_count": null,
   "metadata": {},
   "outputs": [],
   "source": [
    "# To determine the winner of rps, there is a concise but unreadable way to do it:\n",
    "\n",
    "def rps(p1: str, p2: str) -> str:\n",
    "    shapes = [\"rock\", \"paper\", \"scissors\"]\n",
    "    results = [\"Draw\", \"Player 1 won!\", \"Player 2 won!\"]\n",
    "\n",
    "    return results[(shapes.index(p1) - shapes.index(p2)) % 3]"
   ]
  }
 ],
 "metadata": {
  "kernelspec": {
   "display_name": "Python 3",
   "language": "python",
   "name": "python3"
  },
  "language_info": {
   "codemirror_mode": {
    "name": "ipython",
    "version": 3
   },
   "file_extension": ".py",
   "mimetype": "text/x-python",
   "name": "python",
   "nbconvert_exporter": "python",
   "pygments_lexer": "ipython3",
   "version": "3.12.6"
  }
 },
 "nbformat": 4,
 "nbformat_minor": 2
}
