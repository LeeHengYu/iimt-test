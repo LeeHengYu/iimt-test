{
 "cells": [
  {
   "cell_type": "code",
   "execution_count": null,
   "metadata": {},
   "outputs": [],
   "source": [
    "# Q1\n",
    "def triangle(x, y, z):\n",
    "    if x == y == z:\n",
    "        print(\"An equilateral triangle.\")\n",
    "    elif x == y or y == z or x == z:\n",
    "        print(\"An isosceles triangle.\")\n",
    "    else:\n",
    "        print(\"A scalene triangle.\")\n",
    "        \n",
    "x = int(input('x: '))\n",
    "y = int(input('y: '))\n",
    "z = int(input('z: '))\n",
    "triangle(x, y, z)"
   ]
  },
  {
   "cell_type": "code",
   "execution_count": null,
   "metadata": {},
   "outputs": [],
   "source": [
    "# Q2\n",
    "def max_of_three(a, b, c):\n",
    "    if a >= b:\n",
    "        if a >= c:\n",
    "            return a\n",
    "        return c\n",
    "    if b >= c:\n",
    "        return b\n",
    "    return c\n",
    "\n",
    "print(max_of_three(6,-5,-5))\n",
    "print(max_of_three(4,10,-99))"
   ]
  },
  {
   "cell_type": "code",
   "execution_count": null,
   "metadata": {},
   "outputs": [],
   "source": [
    "# Q3\n",
    "def score(x, y):\n",
    "    distance_squared = (x**2 + y**2)\n",
    "    if distance_squared <= 1:\n",
    "        return 10\n",
    "    if distance_squared <= 25:\n",
    "        return 5\n",
    "    if distance_squared <= 100:\n",
    "        return 1\n",
    "    return 'dart of of board.'"
   ]
  },
  {
   "cell_type": "code",
   "execution_count": 17,
   "metadata": {},
   "outputs": [
    {
     "name": "stdout",
     "output_type": "stream",
     "text": [
      "Player A chose paper\n",
      "Player B chose rock\n",
      "Paper covers rock! Player A wins!\n"
     ]
    }
   ],
   "source": [
    "# Q4\n",
    "from random import randint\n",
    "\n",
    "def rock_paper_scissors():\n",
    "    ops = ['rock', 'scissors', 'paper']\n",
    "    A = randint(0, 2)\n",
    "    B = randint(0, 2)\n",
    "    \n",
    "    print(f'Player A chose {ops[A]}')\n",
    "    print(f'Player B chose {ops[B]}')\n",
    "    \n",
    "    descriptions = {\n",
    "        (0,1): 'Rock smashes scissors!',\n",
    "        (1,2): 'Scissors cut paper!',\n",
    "        (2,0): 'Paper covers rock!'\n",
    "    }\n",
    "    \n",
    "    if A == B:\n",
    "        print('a draw!')\n",
    "    elif (sorted((A,B)) == [0,1]):\n",
    "        print(descriptions[(0,1)], end=' ')\n",
    "        print(f'Player {'A' if A == 0 else 'B'} wins!')\n",
    "    elif (sorted((A,B)) == [1,2]):\n",
    "        print(descriptions[(1,2)], end=' ')\n",
    "        print(f'Player {'A' if A == 1 else 'B'} wins!')\n",
    "    elif (sorted((A,B)) == [0,2]):\n",
    "        print(descriptions[(2,0)], end=' ')\n",
    "        print(f'Player {'A' if A == 2 else 'B'} wins!')\n",
    "\n",
    "rock_paper_scissors()"
   ]
  }
 ],
 "metadata": {
  "kernelspec": {
   "display_name": "base",
   "language": "python",
   "name": "python3"
  },
  "language_info": {
   "codemirror_mode": {
    "name": "ipython",
    "version": 3
   },
   "file_extension": ".py",
   "mimetype": "text/x-python",
   "name": "python",
   "nbconvert_exporter": "python",
   "pygments_lexer": "ipython3",
   "version": "3.12.2"
  }
 },
 "nbformat": 4,
 "nbformat_minor": 2
}
